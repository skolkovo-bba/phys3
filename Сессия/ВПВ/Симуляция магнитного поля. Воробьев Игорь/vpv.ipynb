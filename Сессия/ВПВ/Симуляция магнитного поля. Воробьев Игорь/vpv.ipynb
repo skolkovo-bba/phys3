{
 "cells": [
  {
   "cell_type": "markdown",
   "metadata": {},
   "source": [
    "# Моделирование магнитного поля вокруг проводников сложной формы"
   ]
  },
  {
   "cell_type": "markdown",
   "metadata": {},
   "source": [
    "Закон Био́ — Савáра — Лапла́са (также Закон Био́ — Савáра) — физический закон для определения вектора индукции магнитного поля, порождаемого постоянным электрическим током. Установлен экспериментально Био и Саваром и сформулирован в общем виде Лапласом.\n",
    "\n",
    "Для текущих по тонкому проводнику токов\n",
    "Пусть постоянный ток \n",
    "$I$ течёт по контуру (проводнику) $γ$, находящемуся в вакууме, $r0$ — точка, в которой ищется поле. Тогда индукция магнитного поля в этой точке выражается интегралом (в системе единиц СИ):\n",
    "\n",
    "$$\\mathbf B (\\mathbf{r}_0)= {\\mu_0 \\over 4\\pi}\\int\\limits_\\gamma \\frac{I[d\\mathbf{r} \\times (\\mathbf{r}_0 - \\mathbf{r})]}{|\\mathbf r_0 - \\mathbf r|^3}$$"
   ]
  },
  {
   "cell_type": "markdown",
   "metadata": {},
   "source": [
    "Если взять за точку отсчёта ту точку, в которой нужно найти вектор магнитной индукции, то формула немного упрощается:\n",
    "\n",
    "$$d \\vec B = {\\mu_0 \\over 4\\pi} \\frac{I[\\vec r \\times d \\vec r]}{r^3}$$"
   ]
  },
  {
   "cell_type": "code",
   "execution_count": null,
   "metadata": {},
   "outputs": [],
   "source": [
    "from typing import Optional\n",
    "import matplotlib.backend_bases\n",
    "import matplotlib.pyplot as plt\n",
    "import matplotlib.text\n",
    "import numpy as np\n",
    "from time import time\n",
    "from ipywidgets import interact\n",
    "import ipywidgets as widgets"
   ]
  },
  {
   "cell_type": "code",
   "execution_count": 2,
   "metadata": {},
   "outputs": [],
   "source": [
    "from simulator import Wire, Stream"
   ]
  },
  {
   "cell_type": "code",
   "execution_count": null,
   "metadata": {},
   "outputs": [],
   "source": [
    "def interactive_plot(I):\n",
    "    fig, ax = plt.subplots(figsize=(8, 8), dpi=254)\n",
    "    s = Stream(ax, arr={Wire(I, 0, 0)})\n",
    "    s.paint()\n",
    "\n",
    "interact(interactive_plot, I=(0, 1, 0.1))"
   ]
  },
  {
   "cell_type": "code",
   "execution_count": null,
   "metadata": {},
   "outputs": [],
   "source": [
    "def interactive_plot(I):\n",
    "    fig, ax = plt.subplots(figsize=(8, 8), dpi=254)\n",
    "    s = Stream(ax, arr={Wire(I, 0, 0)})\n",
    "    s.paint()\n",
    "interact(interactive_plot,  I=widgets.FloatSlider(min=-1, max=1, step=0.1, value=0))"
   ]
  },
  {
   "cell_type": "code",
   "execution_count": null,
   "metadata": {},
   "outputs": [],
   "source": [
    "def interactive_plot(I_left, I_right):\n",
    "    fig, ax = plt.subplots(figsize=(8, 8), dpi=254)\n",
    "    s = Stream(ax, arr={Wire(I_left, -1, 0), Wire(I_right, 1, 0)})\n",
    "    s.paint()\n",
    "\n",
    "interact(interactive_plot,  \n",
    "         I_left=widgets.FloatSlider(min=-1, max=1, step=0.1, value=0), \n",
    "         I_right=widgets.FloatSlider(min=-1, max=1, step=0.1, value=0))"
   ]
  },
  {
   "cell_type": "code",
   "execution_count": null,
   "metadata": {},
   "outputs": [],
   "source": [
    "def interactive_plot(I_left, I_right):\n",
    "    fig, ax = plt.subplots(figsize=(8, 8), dpi=254)\n",
    "    s = Stream(ax, arr={Wire(I_left, -1, 0), \n",
    "                        Wire(I_right, 1, 0),\n",
    "                        Wire(I_right, 0, -1),\n",
    "                        Wire(I_right, 0, 1),\n",
    "                        })\n",
    "    s.paint()\n",
    "\n",
    "interact(interactive_plot,  \n",
    "         I_left=widgets.FloatSlider(min=-1, max=1, step=0.1, value=0), \n",
    "         I_right=widgets.FloatSlider(min=-1, max=1, step=0.1, value=0))"
   ]
  },
  {
   "cell_type": "code",
   "execution_count": null,
   "metadata": {},
   "outputs": [],
   "source": [
    "def interactive_plot(I):\n",
    "    fig, ax = plt.subplots(figsize=(8, 8), dpi=254)\n",
    "    s = {Wire(I, -1 + x / 10, 0) for x in range(1, 20)}\n",
    "    for x in range(1, 20):\n",
    "        s.add(Wire(-I, -1 + x / 10, 1.0))\n",
    "\n",
    "    s = Stream(ax, arr=s)\n",
    "    s.paint()\n",
    "interact(interactive_plot,  I=widgets.FloatSlider(min=-1, max=1, step=0.1, value=0))"
   ]
  }
 ],
 "metadata": {
  "kernelspec": {
   "display_name": "Python 3",
   "language": "python",
   "name": "python3"
  },
  "language_info": {
   "codemirror_mode": {
    "name": "ipython",
    "version": 3
   },
   "file_extension": ".py",
   "mimetype": "text/x-python",
   "name": "python",
   "nbconvert_exporter": "python",
   "pygments_lexer": "ipython3",
   "version": "3.12.0"
  }
 },
 "nbformat": 4,
 "nbformat_minor": 2
}
